{
 "cells": [
  {
   "cell_type": "code",
   "execution_count": null,
   "metadata": {},
   "outputs": [],
   "source": [
    "import minify_html\n",
    "import os\n"
   ]
  },
  {
   "cell_type": "code",
   "execution_count": null,
   "metadata": {},
   "outputs": [],
   "source": [
    "maps_path = 'datas/maps'\n",
    "\n",
    "maps = []\n",
    "maps.append('carte_vehicules')\n",
    "maps.append('carte_bornes_rechargement')\n",
    "maps.append('carte_traffic_journalier')\n",
    "maps.append('carte_all_markers')\n"
   ]
  },
  {
   "cell_type": "code",
   "execution_count": null,
   "metadata": {},
   "outputs": [],
   "source": [
    "for map in maps:\n",
    "    input_file = os.path.join(maps_path, map + '.html')\n",
    "    raw = open(input_file, \"r\").read()\n",
    "    input_size = len(raw)\n",
    "\n",
    "    schrinked = minify_html.minify(raw,\n",
    "        # do_not_minify_doctype= True,\n",
    "        ensure_spec_compliant_unquoted_attribute_values= True,\n",
    "        keep_closing_tags= True,\n",
    "        keep_html_and_head_opening_tags= True,\n",
    "        keep_spaces_between_attributes= True,\n",
    "        keep_comments= False,\n",
    "        minify_css= True,\n",
    "        minify_js= True,\n",
    "        remove_bangs= True,\n",
    "        remove_processing_instructions= True,\n",
    "        )\n",
    "    output_size = len(schrinked)\n",
    "\n",
    "    print(f'Size  {input_file}: {input_size} | output: {output_size} | {output_size / input_size}')\n",
    "    with open(os.path.join(maps_path, map + '.min.html'), \"w\") as output_file:\n",
    "        output_file.write(schrinked)"
   ]
  },
  {
   "cell_type": "code",
   "execution_count": null,
   "metadata": {},
   "outputs": [],
   "source": []
  }
 ],
 "metadata": {
  "kernelspec": {
   "display_name": "base",
   "language": "python",
   "name": "python3"
  },
  "language_info": {
   "codemirror_mode": {
    "name": "ipython",
    "version": 3
   },
   "file_extension": ".py",
   "mimetype": "text/x-python",
   "name": "python",
   "nbconvert_exporter": "python",
   "pygments_lexer": "ipython3",
   "version": "3.9.12"
  },
  "orig_nbformat": 4
 },
 "nbformat": 4,
 "nbformat_minor": 2
}
