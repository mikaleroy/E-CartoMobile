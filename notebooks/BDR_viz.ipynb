{
 "cells": [
  {
   "cell_type": "code",
   "execution_count": null,
   "metadata": {},
   "outputs": [],
   "source": [
    "# pip install geopandas matplotlib mplleaflet\n",
    "import geopandas as gpd\n",
    "import os\n",
    "import joblib\n",
    "\n",
    "data_path = 'C:/Users/demo/Desktop/Lattitude/datas/'"
   ]
  },
  {
   "attachments": {},
   "cell_type": "markdown",
   "metadata": {},
   "source": [
    "# Bornes de recharge"
   ]
  },
  {
   "cell_type": "code",
   "execution_count": null,
   "metadata": {},
   "outputs": [],
   "source": [
    "file_name = 'consolidation-etalab-schema-irve-statique-v-2.2.0-20230327'\n",
    "ext = '.json'\n",
    "\n",
    "try: \n",
    "    etalab = gpd.read_feather(os.path.join(data_path,file_name + '.feather'))\n",
    "except:\n",
    "    etalab = gpd.read_file(os.path.join(data_path,file_name + ext))\n",
    "    etalab.to_feather(os.path.join(data_path,file_name + '.feather'))"
   ]
  },
  {
   "cell_type": "code",
   "execution_count": null,
   "metadata": {},
   "outputs": [],
   "source": [
    "etalab.info()"
   ]
  },
  {
   "cell_type": "code",
   "execution_count": null,
   "metadata": {},
   "outputs": [],
   "source": [
    "etalab.isna().any()"
   ]
  },
  {
   "cell_type": "code",
   "execution_count": null,
   "metadata": {},
   "outputs": [],
   "source": [
    "etalab.geometry"
   ]
  },
  {
   "cell_type": "code",
   "execution_count": null,
   "metadata": {},
   "outputs": [],
   "source": [
    "import folium\n",
    "from folium.plugins import MarkerCluster\n",
    "\n",
    "# Create a marker cluster layer for the data\n",
    "bdr = MarkerCluster(name='BDR')\n",
    "for idx, row in etalab.iterrows():\n",
    "    popup = folium.Popup(f'<b>Name:</b> {row[\"nom_station\"]}')\n",
    "    bdr.add_child(folium.Marker(location=[row.geometry.y, row.geometry.x], popup=popup))"
   ]
  },
  {
   "cell_type": "code",
   "execution_count": null,
   "metadata": {},
   "outputs": [],
   "source": [
    "marker_path = 'C:/Users/demo/Desktop/Lattitude/markers'\n",
    "\n",
    "joblib.dump(bdr, os.path.join(marker_path,'bornes_rechargement.mrkr'))"
   ]
  },
  {
   "attachments": {},
   "cell_type": "markdown",
   "metadata": {},
   "source": [
    "# Carte"
   ]
  },
  {
   "cell_type": "code",
   "execution_count": null,
   "metadata": {},
   "outputs": [],
   "source": [
    "# Create a folium map object\n",
    "map = folium.Map(location= [48.7, 2.3],\n",
    "                    width='100%', height='100%', left='0%', top='0%', position='relative', \n",
    "                    tiles= 'OpenStreetMap',     #OpenStreetMap', Stamen\n",
    "                    attr=None,    #  None   Terrain, Toner, and Watercolor\n",
    "                    min_zoom=0, max_zoom=18, zoom_start=9, \n",
    "                    min_lat=- 90, max_lat=90, min_lon=- 180, max_lon=180, max_bounds=False, \n",
    "                    crs='EPSG3857', control_scale=False, prefer_canvas=False, \n",
    "                    no_touch=False, disable_3d=False, png_enabled=False, zoom_control=True)\n",
    "\n",
    "\n",
    "\n",
    "# Add the marker cluster layer to the map\n",
    "bdr.add_to(map)\n",
    "# Add a layer control to the map\n",
    "folium.LayerControl().add_to(map)\n",
    "\n",
    "# Display the map in the notebook\n",
    "map           #.show_in_browser()\n"
   ]
  },
  {
   "attachments": {},
   "cell_type": "markdown",
   "metadata": {},
   "source": [
    "# Save map"
   ]
  },
  {
   "cell_type": "code",
   "execution_count": null,
   "metadata": {},
   "outputs": [],
   "source": [
    "marker_path = 'C:/Users/demo/Desktop/Lattitude/maps'\n",
    "\n",
    "map.save(os.path.join(marker_path,'carte_bornes_rechargement.html'))"
   ]
  },
  {
   "cell_type": "code",
   "execution_count": null,
   "metadata": {},
   "outputs": [],
   "source": []
  }
 ],
 "metadata": {
  "kernelspec": {
   "display_name": "base",
   "language": "python",
   "name": "python3"
  },
  "language_info": {
   "codemirror_mode": {
    "name": "ipython",
    "version": 3
   },
   "file_extension": ".py",
   "mimetype": "text/x-python",
   "name": "python",
   "nbconvert_exporter": "python",
   "pygments_lexer": "ipython3",
   "version": "3.9.12"
  },
  "orig_nbformat": 4
 },
 "nbformat": 4,
 "nbformat_minor": 2
}
