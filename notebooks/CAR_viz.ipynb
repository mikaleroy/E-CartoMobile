{
 "cells": [
  {
   "cell_type": "code",
   "execution_count": null,
   "metadata": {},
   "outputs": [],
   "source": [
    "import geopandas as gpd\n",
    "import folium\n",
    "from folium.plugins import MarkerCluster\n",
    "import os\n",
    "import joblib\n",
    "\n",
    "data_path = 'C:/Users/demo/Desktop/Lattitude/datas/'\n"
   ]
  },
  {
   "attachments": {},
   "cell_type": "markdown",
   "metadata": {},
   "source": [
    "# Types de voitures"
   ]
  },
  {
   "cell_type": "code",
   "execution_count": null,
   "metadata": {},
   "outputs": [],
   "source": [
    "file_name = 'voitures-par-commune-par-energie'\n",
    "ext = '.geojson'\n",
    "\n",
    "try: \n",
    "    cars = gpd.read_feather(os.path.join(data_path,file_name + '.feather'))\n",
    "except:\n",
    "    cars = gpd.read_file(os.path.join(data_path,file_name + ext))\n",
    "    cars.to_feather(os.path.join(data_path,file_name + '.feather'))"
   ]
  },
  {
   "cell_type": "code",
   "execution_count": null,
   "metadata": {},
   "outputs": [],
   "source": [
    "cars.info()"
   ]
  },
  {
   "cell_type": "code",
   "execution_count": null,
   "metadata": {},
   "outputs": [],
   "source": [
    "cars.isna().any()"
   ]
  },
  {
   "cell_type": "code",
   "execution_count": null,
   "metadata": {},
   "outputs": [],
   "source": [
    "# cars.libepci # manque des valeurs"
   ]
  },
  {
   "cell_type": "code",
   "execution_count": null,
   "metadata": {},
   "outputs": [],
   "source": [
    "cars.libgeo # complet mais a croiser avec les noms de communes"
   ]
  },
  {
   "cell_type": "code",
   "execution_count": null,
   "metadata": {},
   "outputs": [],
   "source": [
    "cars.codgeo   ## LE BON CLIENT"
   ]
  },
  {
   "cell_type": "code",
   "execution_count": null,
   "metadata": {},
   "outputs": [],
   "source": [
    "cars.drop(columns='geometry', inplace=True)"
   ]
  },
  {
   "attachments": {},
   "cell_type": "markdown",
   "metadata": {},
   "source": [
    "# Codes communes insee avec geometry"
   ]
  },
  {
   "cell_type": "code",
   "execution_count": null,
   "metadata": {},
   "outputs": [],
   "source": [
    "file_name2 = 'laposte_hexasmal'\n",
    "ext = '.geojson'\n",
    "\n",
    "try: \n",
    "    poste = gpd.read_feather(os.path.join(data_path,file_name2 + '.feather'))\n",
    "except:\n",
    "    poste = gpd.read_file(os.path.join(data_path,file_name2 + ext))\n",
    "    poste.to_feather(os.path.join(data_path,file_name2 + '.feather'))\n"
   ]
  },
  {
   "cell_type": "code",
   "execution_count": null,
   "metadata": {},
   "outputs": [],
   "source": [
    "poste.info()"
   ]
  },
  {
   "cell_type": "code",
   "execution_count": null,
   "metadata": {},
   "outputs": [],
   "source": [
    "poste.isna().any()"
   ]
  },
  {
   "cell_type": "code",
   "execution_count": null,
   "metadata": {},
   "outputs": [],
   "source": [
    "poste.nom_de_la_commune.value_counts()"
   ]
  },
  {
   "cell_type": "code",
   "execution_count": null,
   "metadata": {},
   "outputs": [],
   "source": [
    "cars.loc[0,:]"
   ]
  },
  {
   "cell_type": "code",
   "execution_count": null,
   "metadata": {},
   "outputs": [],
   "source": [
    "poste.query('nom_de_la_commune == \"INCHY\"')"
   ]
  },
  {
   "attachments": {},
   "cell_type": "markdown",
   "metadata": {},
   "source": [
    "# Jointure des tables"
   ]
  },
  {
   "cell_type": "code",
   "execution_count": null,
   "metadata": {},
   "outputs": [],
   "source": [
    "poste.rename(columns={'code_commune_insee': 'codgeo'}, inplace=True)"
   ]
  },
  {
   "cell_type": "code",
   "execution_count": null,
   "metadata": {},
   "outputs": [],
   "source": [
    "# jointure des deux suivant le code commune insee\n",
    "cars = cars.join(poste.set_index('codgeo')[['geometry']], on='codgeo')"
   ]
  },
  {
   "cell_type": "code",
   "execution_count": null,
   "metadata": {},
   "outputs": [],
   "source": [
    "cars.info()"
   ]
  },
  {
   "cell_type": "code",
   "execution_count": null,
   "metadata": {},
   "outputs": [],
   "source": [
    "cars.query(\"geometry == None\")"
   ]
  },
  {
   "cell_type": "code",
   "execution_count": null,
   "metadata": {},
   "outputs": [],
   "source": [
    "poste.query(\"codgeo == '09255'\")"
   ]
  },
  {
   "attachments": {},
   "cell_type": "markdown",
   "metadata": {},
   "source": [
    " Il y a un problème sur 1735 données de cars dont la geomtrie est None\n",
    "\n",
    " Pour l'instant drop"
   ]
  },
  {
   "cell_type": "code",
   "execution_count": null,
   "metadata": {},
   "outputs": [],
   "source": [
    "cars = cars.query(\"geometry != None\")\n",
    "cars.head()"
   ]
  },
  {
   "attachments": {},
   "cell_type": "markdown",
   "metadata": {},
   "source": [
    "# Agrégations"
   ]
  },
  {
   "cell_type": "code",
   "execution_count": null,
   "metadata": {},
   "outputs": [],
   "source": [
    "car_agg = cars.groupby('codgeo').agg(\n",
    "                    {'nb_vp': ['min','max'],\n",
    "                    'nb_vp_rechargeables_gaz': ['min','max'],\n",
    "                    'nb_vp_rechargeables_el': ['min','max'],\n",
    "                    'geometry': ['first']\n",
    "                    }\n",
    "                    ).reset_index()\n",
    "car_agg.columns = car_agg.columns.to_flat_index()\n",
    "car_agg.columns = [ x + '_' + y if x !='geometry' else x for x,y in car_agg.columns]\n",
    "# car_agg.columns = ['min_nb_vp','max_nb_vp','min_nb_vp_rechargeables_gaz','max_nb_vp_rechargeables_gaz','min_nb_vp_rechargeables_el','max_nb_vp_rechargeables_el']\n",
    "car_agg"
   ]
  },
  {
   "attachments": {},
   "cell_type": "markdown",
   "metadata": {},
   "source": [
    "# Markers"
   ]
  },
  {
   "cell_type": "code",
   "execution_count": null,
   "metadata": {},
   "outputs": [],
   "source": [
    "from branca.colormap import linear, LinearColormap\n",
    "\n",
    "# Define the color map\n",
    "colors = ['#00ff00', '#ffff00', '#ff0000']\n",
    "cmap_vp = LinearColormap(colors=colors, vmin=car_agg['nb_vp_max'].min(), vmax=car_agg['nb_vp_max'].max())\n",
    "display(cmap_vp)"
   ]
  },
  {
   "cell_type": "code",
   "execution_count": null,
   "metadata": {},
   "outputs": [],
   "source": [
    "nb_vp = MarkerCluster(name='Nombre de véhicules')\n",
    "nb_el = MarkerCluster(name='Nombre de véhicules électriques')\n",
    "\n",
    "for idx, row in car_agg.iterrows():\n",
    "    # Clusters for vp_max circles\n",
    "    nb_vp.add_child( folium.CircleMarker(\n",
    "                            location = [row.geometry.y, row.geometry.x],\n",
    "                            radius = 50,\n",
    "                            popup = f'<b>véhicules: </b> {row[\"nb_vp_max\"]}',\n",
    "                            color = cmap_vp(row['nb_vp_max']),\n",
    "                            fill = True,\n",
    "                            fill_color = cmap_vp(row['nb_vp_max']),\n",
    "                            fillOpacity = .1,\n",
    "                      )\n",
    "                    )    \n",
    "    nb_el.add_child( folium.Marker(\n",
    "                            location = [row.geometry.y, row.geometry.x],\n",
    "                            popup = f'<b>électriques: </b> {row[\"nb_vp_rechargeables_el_max\"]}',\n",
    "                            icon = folium.Icon(icon=\"info-sign\", color='blue'),\n",
    "                      )\n",
    "                    )\n"
   ]
  },
  {
   "cell_type": "code",
   "execution_count": null,
   "metadata": {},
   "outputs": [],
   "source": [
    "marker_path = 'C:/Users/demo/Desktop/Lattitude/markers'\n",
    "\n",
    "joblib.dump(nb_vp, os.path.join(marker_path,'nombre_vehicules.mrkr'))\n",
    "\n",
    "joblib.dump(nb_el, os.path.join(marker_path,'nombre_vehicules_electriques.mrkr'))\n"
   ]
  },
  {
   "attachments": {},
   "cell_type": "markdown",
   "metadata": {},
   "source": [
    "# Carte"
   ]
  },
  {
   "cell_type": "code",
   "execution_count": null,
   "metadata": {},
   "outputs": [],
   "source": [
    "map = folium.Map(location= [48.8, 2.3],\n",
    "                    width='100%', height='100%', left='00%', top='0%', position='relative', \n",
    "                    tiles= 'OpenStreetMap',     #OpenStreetMap', Stamen\n",
    "                    attr=None,    #  None   Terrain, Toner, and Watercolor\n",
    "                    min_zoom=0, max_zoom=18, zoom_start=10, \n",
    "                    min_lat=- 90, max_lat=90, min_lon=- 180, max_lon=180, max_bounds=False, \n",
    "                    crs='EPSG3857', control_scale=False, prefer_canvas=False, \n",
    "                    no_touch=False, disable_3d=False, png_enabled=False, zoom_control=True)\n",
    "\n",
    "nb_vp.add_to(map)\n",
    "nb_el.add_to(map)\n",
    "# trafic.add_to(all_in)   \n",
    "           \n",
    "folium.LayerControl().add_to(map)\n",
    "\n",
    "map"
   ]
  },
  {
   "cell_type": "code",
   "execution_count": null,
   "metadata": {},
   "outputs": [],
   "source": [
    "maps_path = 'C:/Users/demo/Desktop/Lattitude/maps'\n",
    "\n",
    "map.save(os.path.join(maps_path,'carte_vehicules.html'))"
   ]
  }
 ],
 "metadata": {
  "kernelspec": {
   "display_name": "base",
   "language": "python",
   "name": "python3"
  },
  "language_info": {
   "codemirror_mode": {
    "name": "ipython",
    "version": 3
   },
   "file_extension": ".py",
   "mimetype": "text/x-python",
   "name": "python",
   "nbconvert_exporter": "python",
   "pygments_lexer": "ipython3",
   "version": "3.9.12"
  },
  "orig_nbformat": 4
 },
 "nbformat": 4,
 "nbformat_minor": 2
}
