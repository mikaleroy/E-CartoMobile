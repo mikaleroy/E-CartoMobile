{
 "cells": [
  {
   "cell_type": "code",
   "execution_count": null,
   "metadata": {},
   "outputs": [],
   "source": [
    "import geopandas as gpd\n",
    "import folium\n",
    "from folium.plugins import MarkerCluster\n",
    "import os\n",
    "import joblib\n",
    "\n"
   ]
  },
  {
   "attachments": {},
   "cell_type": "markdown",
   "metadata": {},
   "source": [
    "# Load markers"
   ]
  },
  {
   "cell_type": "code",
   "execution_count": null,
   "metadata": {},
   "outputs": [],
   "source": [
    "marker_path = 'C:/Users/demo/Desktop/Lattitude/markers'\n"
   ]
  },
  {
   "cell_type": "code",
   "execution_count": null,
   "metadata": {},
   "outputs": [],
   "source": [
    "\n",
    "bornes = joblib.load( os.path.join(marker_path,'bornes_rechargement.mrkr'))\n"
   ]
  },
  {
   "cell_type": "code",
   "execution_count": null,
   "metadata": {},
   "outputs": [],
   "source": [
    "# Redefine style bloc for pickle loading \n",
    "from branca.colormap import linear, LinearColormap\n",
    "\n",
    "min = 0\n",
    "max = 229392\n",
    "\n",
    "# Define the color map\n",
    "colors = ['#00ff00', '#ffff00', '#ff0000']\n",
    "cmap = LinearColormap(colors=colors, vmin=min, vmax=max)\n",
    "display(cmap)\n",
    "\n",
    "# Define the style function Gradien color\n",
    "def style_function_gradien(feature):\n",
    "    color = cmap(feature['properties']['tmja'])\n",
    "    return {'weight': 3,\n",
    "            'color': color,\n",
    "            'opacity': .9,\n",
    "            # 'fillColor': cmap,\n",
    "            # 'fillOpacity': 1,\n",
    "             }\n",
    "             \n",
    "trafic= joblib.load( os.path.join(marker_path,'trafic_journalier.mrkr'))\n"
   ]
  },
  {
   "cell_type": "code",
   "execution_count": null,
   "metadata": {},
   "outputs": [],
   "source": [
    "\n",
    "nb_vehicules = joblib.load( os.path.join(marker_path,'nombre_vehicules.mrkr'))\n"
   ]
  },
  {
   "cell_type": "code",
   "execution_count": null,
   "metadata": {},
   "outputs": [],
   "source": [
    "\n",
    "nb_electriques = joblib.load( os.path.join(marker_path,'nombre_vehicules_electriques.mrkr'))"
   ]
  },
  {
   "attachments": {},
   "cell_type": "markdown",
   "metadata": {},
   "source": [
    "# Map"
   ]
  },
  {
   "cell_type": "code",
   "execution_count": null,
   "metadata": {},
   "outputs": [],
   "source": [
    "# Create a folium map object\n",
    "map = folium.Map(location= [46.63728, 2.3382623],\n",
    "                    width='100%', height='100%', left='0%', top='0%', position='relative', \n",
    "                    tiles= 'OpenStreetMap',     #OpenStreetMap', Stamen\n",
    "                    attr=None,    #  None   Terrain, Toner, and Watercolor\n",
    "                    min_zoom=0, max_zoom=18, zoom_start=7, \n",
    "                    min_lat=- 90, max_lat=90, min_lon=- 180, max_lon=180, max_bounds=False, \n",
    "                    crs='EPSG3857', control_scale=False, prefer_canvas=False, \n",
    "                    no_touch=False, disable_3d=False, png_enabled=False, zoom_control=True)\n",
    "\n",
    "\n",
    "\n",
    "# Add the markers to the map\n",
    "bornes.add_to(map)\n",
    "trafic.add_to(map)\n",
    "nb_vehicules.add_to(map)\n",
    "nb_electriques.add_to(map)\n",
    "\n",
    "# Add a layer control to the map\n",
    "folium.LayerControl().add_to(map)\n",
    "\n",
    "# Display the map in the notebook\n",
    "map           #.show_in_browser()\n"
   ]
  },
  {
   "cell_type": "code",
   "execution_count": null,
   "metadata": {},
   "outputs": [],
   "source": [
    "maps_path = 'C:/Users/demo/Desktop/Lattitude/maps'\n",
    "\n",
    "map.save(os.path.join(maps_path,'carte_all_markers.html'))"
   ]
  }
 ],
 "metadata": {
  "kernelspec": {
   "display_name": "base",
   "language": "python",
   "name": "python3"
  },
  "language_info": {
   "codemirror_mode": {
    "name": "ipython",
    "version": 3
   },
   "file_extension": ".py",
   "mimetype": "text/x-python",
   "name": "python",
   "nbconvert_exporter": "python",
   "pygments_lexer": "ipython3",
   "version": "3.9.12"
  },
  "orig_nbformat": 4
 },
 "nbformat": 4,
 "nbformat_minor": 2
}
